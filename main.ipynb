{
 "cells": [
  {
   "cell_type": "code",
   "execution_count": 1,
   "metadata": {},
   "outputs": [],
   "source": [
    "from pyspark.sql import SparkSession"
   ]
  },
  {
   "cell_type": "code",
   "execution_count": 2,
   "metadata": {},
   "outputs": [
    {
     "name": "stderr",
     "output_type": "stream",
     "text": [
      "/usr/local/lib/python3.9/dist-packages/pyspark/bin/load-spark-env.sh: line 68: ps: command not found\n",
      "Setting default log level to \"WARN\".\n",
      "To adjust logging level use sc.setLogLevel(newLevel). For SparkR, use setLogLevel(newLevel).\n",
      "24/06/16 21:53:07 WARN NativeCodeLoader: Unable to load native-hadoop library for your platform... using builtin-java classes where applicable\n"
     ]
    }
   ],
   "source": [
    "# Iniciar uma sessão do Spark\n",
    "spark = SparkSession.builder.appName(\"CSVLoader\").getOrCreate()"
   ]
  },
  {
   "cell_type": "code",
   "execution_count": 3,
   "metadata": {},
   "outputs": [
    {
     "name": "stderr",
     "output_type": "stream",
     "text": [
      "                                                                                \r"
     ]
    }
   ],
   "source": [
    "# Caminho para o arquivo CSV\n",
    "file_path = \"./Cancelled_Diverted_2023.csv\"\n",
    "\n",
    "# Ler o arquivo CSV\n",
    "df = spark.read.csv(file_path, header=True, inferSchema=True)\n"
   ]
  },
  {
   "cell_type": "code",
   "execution_count": 5,
   "metadata": {},
   "outputs": [
    {
     "name": "stdout",
     "output_type": "stream",
     "text": [
      "root\n",
      " |-- FlightDate: date (nullable = true)\n",
      " |-- Day_Of_Week: integer (nullable = true)\n",
      " |-- Airline: string (nullable = true)\n",
      " |-- Tail_Number: string (nullable = true)\n",
      " |-- Cancelled: double (nullable = true)\n",
      " |-- Diverted: double (nullable = true)\n",
      " |-- Dep_Airport: string (nullable = true)\n",
      " |-- Dep_CityName: string (nullable = true)\n",
      " |-- DepTime_label: string (nullable = true)\n",
      " |-- Dep_Delay: double (nullable = true)\n",
      " |-- Dep_Delay_Tag: integer (nullable = true)\n",
      " |-- Dep_Delay_Type: string (nullable = true)\n",
      " |-- Arr_Airport: string (nullable = true)\n",
      " |-- Arr_CityName: string (nullable = true)\n",
      " |-- Arr_Delay: double (nullable = true)\n",
      " |-- Arr_Delay_Type: string (nullable = true)\n",
      " |-- Flight_Duration: double (nullable = true)\n",
      " |-- Distance_type: string (nullable = true)\n",
      " |-- Delay_Carrier: double (nullable = true)\n",
      " |-- Delay_Weather: double (nullable = true)\n",
      " |-- Delay_NAS: double (nullable = true)\n",
      " |-- Delay_Security: double (nullable = true)\n",
      " |-- Delay_LastAircraft: double (nullable = true)\n",
      "\n"
     ]
    }
   ],
   "source": [
    "# Mostrar o esquema do DataFrame\n",
    "df.printSchema()"
   ]
  },
  {
   "cell_type": "code",
   "execution_count": 4,
   "metadata": {},
   "outputs": [
    {
     "name": "stdout",
     "output_type": "stream",
     "text": [
      "+----------+-----------+------------+-----------+---------+--------+-----------+--------------------+-------------+---------+-------------+------------------+-----------+--------------------+---------+----------------+---------------+-------------+-------------+-------------+---------+--------------+------------------+\n",
      "|FlightDate|Day_Of_Week|     Airline|Tail_Number|Cancelled|Diverted|Dep_Airport|        Dep_CityName|DepTime_label|Dep_Delay|Dep_Delay_Tag|    Dep_Delay_Type|Arr_Airport|        Arr_CityName|Arr_Delay|  Arr_Delay_Type|Flight_Duration|Distance_type|Delay_Carrier|Delay_Weather|Delay_NAS|Delay_Security|Delay_LastAircraft|\n",
      "+----------+-----------+------------+-----------+---------+--------+-----------+--------------------+-------------+---------+-------------+------------------+-----------+--------------------+---------+----------------+---------------+-------------+-------------+-------------+---------+--------------+------------------+\n",
      "|2023-01-25|          3|Endeavor Air|     N691CA|      1.0|     0.0|        JFK|        New York, NY|      Evening|      0.0|            0|No Departure Delay|        ITH| Ithaca/Cortland, NY|      0.0|No Arrival Delay|            0.0|   Short Haul|          0.0|          0.0|      0.0|           0.0|               0.0|\n",
      "|2023-01-03|          2|Endeavor Air|     N937XJ|      1.0|     0.0|        MSP|     Minneapolis, MN|      Morning|      0.0|            0|No Departure Delay|        PIT|      Pittsburgh, PA|      0.0|No Arrival Delay|            0.0|   Short Haul|          0.0|          0.0|      0.0|           0.0|               0.0|\n",
      "|2023-01-03|          2|Endeavor Air|     N937XJ|      1.0|     0.0|        PIT|      Pittsburgh, PA|    Afternoon|      0.0|            0|No Departure Delay|        MSP|     Minneapolis, MN|      0.0|No Arrival Delay|            0.0|   Short Haul|          0.0|          0.0|      0.0|           0.0|               0.0|\n",
      "|2023-01-11|          3|Endeavor Air|     N926XJ|      1.0|     0.0|        BWI|       Baltimore, MD|    Afternoon|      0.0|            0|No Departure Delay|        JFK|        New York, NY|      0.0|No Arrival Delay|            0.0|   Short Haul|          0.0|          0.0|      0.0|           0.0|               0.0|\n",
      "|2023-01-25|          3|Endeavor Air|     N335PQ|      0.0|     1.0|        BWI|       Baltimore, MD|    Afternoon|      2.0|            0|No Departure Delay|        JFK|        New York, NY|      0.0|No Arrival Delay|            0.0|   Short Haul|          0.0|          0.0|      0.0|           0.0|               0.0|\n",
      "|2023-01-11|          3|Endeavor Air|     N926XJ|      1.0|     0.0|        JFK|        New York, NY|    Afternoon|      0.0|            0|No Departure Delay|        BWI|       Baltimore, MD|      0.0|No Arrival Delay|            0.0|   Short Haul|          0.0|          0.0|      0.0|           0.0|               0.0|\n",
      "|2023-01-18|          3|Endeavor Air|     N678CA|      1.0|     0.0|        MSP|     Minneapolis, MN|      Evening|      0.0|            0|No Departure Delay|        CID|Cedar Rapids/Iowa...|      0.0|No Arrival Delay|            0.0|   Short Haul|          0.0|          0.0|      0.0|           0.0|               0.0|\n",
      "|2023-01-23|          1|Endeavor Air|     N183GJ|      1.0|     0.0|        LGA|        New York, NY|    Afternoon|      0.0|            0|No Departure Delay|        SDF|      Louisville, KY|      0.0|No Arrival Delay|            0.0|   Short Haul|          0.0|          0.0|      0.0|           0.0|               0.0|\n",
      "|2023-01-03|          2|Endeavor Air|     N330PQ|      1.0|     0.0|        CID|Cedar Rapids/Iowa...|      Morning|      0.0|            0|No Departure Delay|        MSP|     Minneapolis, MN|      0.0|No Arrival Delay|            0.0|   Short Haul|          0.0|          0.0|      0.0|           0.0|               0.0|\n",
      "|2023-01-16|          1|Endeavor Air|     N301PQ|      1.0|     0.0|        BGR|          Bangor, ME|        Night|      0.0|            0|No Departure Delay|        LGA|        New York, NY|      0.0|No Arrival Delay|            0.0|   Short Haul|          0.0|          0.0|      0.0|           0.0|               0.0|\n",
      "|2023-01-25|          3|Endeavor Air|     N303PQ|      1.0|     0.0|        RDU|  Raleigh/Durham, NC|      Evening|      0.0|            0|No Departure Delay|        JFK|        New York, NY|      0.0|No Arrival Delay|            0.0|   Short Haul|          0.0|          0.0|      0.0|           0.0|               0.0|\n",
      "|2023-01-11|          3|Endeavor Air|     N367CA|      0.0|     1.0|        EVV|      Evansville, IN|      Morning|     -4.0|            0|No Departure Delay|        ATL|         Atlanta, GA|      0.0|No Arrival Delay|            0.0|   Short Haul|          0.0|          0.0|      0.0|           0.0|               0.0|\n",
      "|2023-01-03|          2|Endeavor Air|     N937XJ|      1.0|     0.0|        MSP|     Minneapolis, MN|      Morning|      0.0|            0|No Departure Delay|        CVG|      Cincinnati, OH|      0.0|No Arrival Delay|            0.0|   Short Haul|          0.0|          0.0|      0.0|           0.0|               0.0|\n",
      "|2023-01-09|          1|Endeavor Air|     N482PX|      1.0|     0.0|        LGA|        New York, NY|      Morning|      0.0|            0|No Departure Delay|        CVG|      Cincinnati, OH|      0.0|No Arrival Delay|            0.0|   Short Haul|          0.0|          0.0|      0.0|           0.0|               0.0|\n",
      "|2023-01-11|          3|Endeavor Air|     N478PX|      1.0|     0.0|        LGA|        New York, NY|      Evening|      0.0|            0|No Departure Delay|        RDU|  Raleigh/Durham, NC|      0.0|No Arrival Delay|            0.0|   Short Haul|          0.0|          0.0|      0.0|           0.0|               0.0|\n",
      "|2023-01-03|          2|Endeavor Air|     N932XJ|      1.0|     0.0|        JFK|        New York, NY|    Afternoon|      0.0|            0|No Departure Delay|        MSP|     Minneapolis, MN|      0.0|No Arrival Delay|            0.0|   Short Haul|          0.0|          0.0|      0.0|           0.0|               0.0|\n",
      "|2023-01-23|          1|Endeavor Air|     N904XJ|      1.0|     0.0|        RIC|        Richmond, VA|    Afternoon|      0.0|            0|No Departure Delay|        LGA|        New York, NY|      0.0|No Arrival Delay|            0.0|   Short Haul|          0.0|          0.0|      0.0|           0.0|               0.0|\n",
      "|2023-01-25|          3|Endeavor Air|     N8928A|      1.0|     0.0|        DTW|         Detroit, MI|    Afternoon|     -4.0|            0|No Departure Delay|        MBS|Saginaw/Bay City/...|      0.0|No Arrival Delay|            0.0|   Short Haul|          0.0|          0.0|      0.0|           0.0|               0.0|\n",
      "|2023-01-25|          3|Endeavor Air|     N8928A|      1.0|     0.0|        MBS|Saginaw/Bay City/...|    Afternoon|      0.0|            0|No Departure Delay|        DTW|         Detroit, MI|      0.0|No Arrival Delay|            0.0|   Short Haul|          0.0|          0.0|      0.0|           0.0|               0.0|\n",
      "|2023-01-22|          7|Endeavor Air|     N8877A|      1.0|     0.0|        ATL|         Atlanta, GA|      Morning|      0.0|            0|No Departure Delay|        MGM|      Montgomery, AL|      0.0|No Arrival Delay|            0.0|   Short Haul|          0.0|          0.0|      0.0|           0.0|               0.0|\n",
      "+----------+-----------+------------+-----------+---------+--------+-----------+--------------------+-------------+---------+-------------+------------------+-----------+--------------------+---------+----------------+---------------+-------------+-------------+-------------+---------+--------------+------------------+\n",
      "only showing top 20 rows\n",
      "\n"
     ]
    }
   ],
   "source": [
    "# Mostrar o DataFrame\n",
    "df.show()"
   ]
  },
  {
   "cell_type": "code",
   "execution_count": 6,
   "metadata": {},
   "outputs": [],
   "source": [
    "# cria uma visualização temporária para usar com comandos sql\n",
    "df.createOrReplaceTempView(\"diverted\")\n"
   ]
  },
  {
   "cell_type": "code",
   "execution_count": 8,
   "metadata": {},
   "outputs": [],
   "source": [
    "sqlDF = spark.sql(\"SELECT * FROM diverted\")"
   ]
  },
  {
   "cell_type": "code",
   "execution_count": 9,
   "metadata": {},
   "outputs": [
    {
     "name": "stdout",
     "output_type": "stream",
     "text": [
      "+----------+-----------+------------+-----------+---------+--------+-----------+--------------------+-------------+---------+-------------+------------------+-----------+--------------------+---------+----------------+---------------+-------------+-------------+-------------+---------+--------------+------------------+\n",
      "|FlightDate|Day_Of_Week|     Airline|Tail_Number|Cancelled|Diverted|Dep_Airport|        Dep_CityName|DepTime_label|Dep_Delay|Dep_Delay_Tag|    Dep_Delay_Type|Arr_Airport|        Arr_CityName|Arr_Delay|  Arr_Delay_Type|Flight_Duration|Distance_type|Delay_Carrier|Delay_Weather|Delay_NAS|Delay_Security|Delay_LastAircraft|\n",
      "+----------+-----------+------------+-----------+---------+--------+-----------+--------------------+-------------+---------+-------------+------------------+-----------+--------------------+---------+----------------+---------------+-------------+-------------+-------------+---------+--------------+------------------+\n",
      "|2023-01-25|          3|Endeavor Air|     N691CA|      1.0|     0.0|        JFK|        New York, NY|      Evening|      0.0|            0|No Departure Delay|        ITH| Ithaca/Cortland, NY|      0.0|No Arrival Delay|            0.0|   Short Haul|          0.0|          0.0|      0.0|           0.0|               0.0|\n",
      "|2023-01-03|          2|Endeavor Air|     N937XJ|      1.0|     0.0|        MSP|     Minneapolis, MN|      Morning|      0.0|            0|No Departure Delay|        PIT|      Pittsburgh, PA|      0.0|No Arrival Delay|            0.0|   Short Haul|          0.0|          0.0|      0.0|           0.0|               0.0|\n",
      "|2023-01-03|          2|Endeavor Air|     N937XJ|      1.0|     0.0|        PIT|      Pittsburgh, PA|    Afternoon|      0.0|            0|No Departure Delay|        MSP|     Minneapolis, MN|      0.0|No Arrival Delay|            0.0|   Short Haul|          0.0|          0.0|      0.0|           0.0|               0.0|\n",
      "|2023-01-11|          3|Endeavor Air|     N926XJ|      1.0|     0.0|        BWI|       Baltimore, MD|    Afternoon|      0.0|            0|No Departure Delay|        JFK|        New York, NY|      0.0|No Arrival Delay|            0.0|   Short Haul|          0.0|          0.0|      0.0|           0.0|               0.0|\n",
      "|2023-01-25|          3|Endeavor Air|     N335PQ|      0.0|     1.0|        BWI|       Baltimore, MD|    Afternoon|      2.0|            0|No Departure Delay|        JFK|        New York, NY|      0.0|No Arrival Delay|            0.0|   Short Haul|          0.0|          0.0|      0.0|           0.0|               0.0|\n",
      "|2023-01-11|          3|Endeavor Air|     N926XJ|      1.0|     0.0|        JFK|        New York, NY|    Afternoon|      0.0|            0|No Departure Delay|        BWI|       Baltimore, MD|      0.0|No Arrival Delay|            0.0|   Short Haul|          0.0|          0.0|      0.0|           0.0|               0.0|\n",
      "|2023-01-18|          3|Endeavor Air|     N678CA|      1.0|     0.0|        MSP|     Minneapolis, MN|      Evening|      0.0|            0|No Departure Delay|        CID|Cedar Rapids/Iowa...|      0.0|No Arrival Delay|            0.0|   Short Haul|          0.0|          0.0|      0.0|           0.0|               0.0|\n",
      "|2023-01-23|          1|Endeavor Air|     N183GJ|      1.0|     0.0|        LGA|        New York, NY|    Afternoon|      0.0|            0|No Departure Delay|        SDF|      Louisville, KY|      0.0|No Arrival Delay|            0.0|   Short Haul|          0.0|          0.0|      0.0|           0.0|               0.0|\n",
      "|2023-01-03|          2|Endeavor Air|     N330PQ|      1.0|     0.0|        CID|Cedar Rapids/Iowa...|      Morning|      0.0|            0|No Departure Delay|        MSP|     Minneapolis, MN|      0.0|No Arrival Delay|            0.0|   Short Haul|          0.0|          0.0|      0.0|           0.0|               0.0|\n",
      "|2023-01-16|          1|Endeavor Air|     N301PQ|      1.0|     0.0|        BGR|          Bangor, ME|        Night|      0.0|            0|No Departure Delay|        LGA|        New York, NY|      0.0|No Arrival Delay|            0.0|   Short Haul|          0.0|          0.0|      0.0|           0.0|               0.0|\n",
      "|2023-01-25|          3|Endeavor Air|     N303PQ|      1.0|     0.0|        RDU|  Raleigh/Durham, NC|      Evening|      0.0|            0|No Departure Delay|        JFK|        New York, NY|      0.0|No Arrival Delay|            0.0|   Short Haul|          0.0|          0.0|      0.0|           0.0|               0.0|\n",
      "|2023-01-11|          3|Endeavor Air|     N367CA|      0.0|     1.0|        EVV|      Evansville, IN|      Morning|     -4.0|            0|No Departure Delay|        ATL|         Atlanta, GA|      0.0|No Arrival Delay|            0.0|   Short Haul|          0.0|          0.0|      0.0|           0.0|               0.0|\n",
      "|2023-01-03|          2|Endeavor Air|     N937XJ|      1.0|     0.0|        MSP|     Minneapolis, MN|      Morning|      0.0|            0|No Departure Delay|        CVG|      Cincinnati, OH|      0.0|No Arrival Delay|            0.0|   Short Haul|          0.0|          0.0|      0.0|           0.0|               0.0|\n",
      "|2023-01-09|          1|Endeavor Air|     N482PX|      1.0|     0.0|        LGA|        New York, NY|      Morning|      0.0|            0|No Departure Delay|        CVG|      Cincinnati, OH|      0.0|No Arrival Delay|            0.0|   Short Haul|          0.0|          0.0|      0.0|           0.0|               0.0|\n",
      "|2023-01-11|          3|Endeavor Air|     N478PX|      1.0|     0.0|        LGA|        New York, NY|      Evening|      0.0|            0|No Departure Delay|        RDU|  Raleigh/Durham, NC|      0.0|No Arrival Delay|            0.0|   Short Haul|          0.0|          0.0|      0.0|           0.0|               0.0|\n",
      "|2023-01-03|          2|Endeavor Air|     N932XJ|      1.0|     0.0|        JFK|        New York, NY|    Afternoon|      0.0|            0|No Departure Delay|        MSP|     Minneapolis, MN|      0.0|No Arrival Delay|            0.0|   Short Haul|          0.0|          0.0|      0.0|           0.0|               0.0|\n",
      "|2023-01-23|          1|Endeavor Air|     N904XJ|      1.0|     0.0|        RIC|        Richmond, VA|    Afternoon|      0.0|            0|No Departure Delay|        LGA|        New York, NY|      0.0|No Arrival Delay|            0.0|   Short Haul|          0.0|          0.0|      0.0|           0.0|               0.0|\n",
      "|2023-01-25|          3|Endeavor Air|     N8928A|      1.0|     0.0|        DTW|         Detroit, MI|    Afternoon|     -4.0|            0|No Departure Delay|        MBS|Saginaw/Bay City/...|      0.0|No Arrival Delay|            0.0|   Short Haul|          0.0|          0.0|      0.0|           0.0|               0.0|\n",
      "|2023-01-25|          3|Endeavor Air|     N8928A|      1.0|     0.0|        MBS|Saginaw/Bay City/...|    Afternoon|      0.0|            0|No Departure Delay|        DTW|         Detroit, MI|      0.0|No Arrival Delay|            0.0|   Short Haul|          0.0|          0.0|      0.0|           0.0|               0.0|\n",
      "|2023-01-22|          7|Endeavor Air|     N8877A|      1.0|     0.0|        ATL|         Atlanta, GA|      Morning|      0.0|            0|No Departure Delay|        MGM|      Montgomery, AL|      0.0|No Arrival Delay|            0.0|   Short Haul|          0.0|          0.0|      0.0|           0.0|               0.0|\n",
      "+----------+-----------+------------+-----------+---------+--------+-----------+--------------------+-------------+---------+-------------+------------------+-----------+--------------------+---------+----------------+---------------+-------------+-------------+-------------+---------+--------------+------------------+\n",
      "only showing top 20 rows\n",
      "\n"
     ]
    }
   ],
   "source": [
    "sqlDF.show()"
   ]
  },
  {
   "cell_type": "markdown",
   "metadata": {},
   "source": [
    "Datas que ocoreram mais alterações"
   ]
  },
  {
   "cell_type": "code",
   "execution_count": 19,
   "metadata": {},
   "outputs": [
    {
     "name": "stdout",
     "output_type": "stream",
     "text": [
      "+-----------+--------+\n",
      "|data de voo|contagem|\n",
      "+-----------+--------+\n",
      "| 2023-02-01|    2147|\n",
      "| 2023-06-26|    2065|\n",
      "| 2023-06-27|    1924|\n",
      "| 2023-01-31|    1842|\n",
      "| 2023-07-09|    1813|\n",
      "| 2023-08-07|    1711|\n",
      "| 2023-07-16|    1570|\n",
      "| 2023-02-22|    1544|\n",
      "| 2023-06-25|    1458|\n",
      "| 2023-09-10|    1392|\n",
      "| 2023-09-09|    1294|\n",
      "| 2023-01-11|    1268|\n",
      "| 2023-09-08|    1220|\n",
      "| 2023-07-14|    1138|\n",
      "| 2023-01-30|    1117|\n",
      "| 2023-03-14|    1049|\n",
      "| 2023-06-28|    1049|\n",
      "| 2023-08-20|    1031|\n",
      "| 2023-08-30|    1029|\n",
      "| 2023-01-02|     973|\n",
      "+-----------+--------+\n",
      "only showing top 20 rows\n",
      "\n"
     ]
    }
   ],
   "source": [
    "dataDf = spark.sql(\"SELECT FlightDate AS `data de voo`, COUNT(*) AS `contagem` FROM diverted GROUP BY FlightDate ORDER BY `contagem` DESC\")\n",
    "dataDf.show()"
   ]
  },
  {
   "cell_type": "markdown",
   "metadata": {},
   "source": [
    "Dias da semana com mais alterações"
   ]
  },
  {
   "cell_type": "code",
   "execution_count": 23,
   "metadata": {},
   "outputs": [
    {
     "name": "stdout",
     "output_type": "stream",
     "text": [
      "+-------------+--------+\n",
      "|dia da semana|contagem|\n",
      "+-------------+--------+\n",
      "| Quarta-feira|   17461|\n",
      "|      Domindo|   16921|\n",
      "|Segunda-feira|   15333|\n",
      "|  Sexta-feira|   14822|\n",
      "|  Terça-feira|   14467|\n",
      "| Quinta-feira|   13784|\n",
      "|       Sábado|   11700|\n",
      "+-------------+--------+\n",
      "\n"
     ]
    }
   ],
   "source": [
    "mesDf = spark.sql(\"\"\"\n",
    "    SELECT \n",
    "        CASE \n",
    "            WHEN Day_Of_Week = 1 THEN 'Segunda-feira'\n",
    "            WHEN Day_Of_Week = 2 THEN 'Terça-feira'\n",
    "            WHEN Day_Of_Week = 3 THEN 'Quarta-feira'\n",
    "            WHEN Day_Of_Week = 4 THEN 'Quinta-feira'\n",
    "            WHEN Day_Of_Week = 5 THEN 'Sexta-feira'\n",
    "            WHEN Day_Of_Week = 6 THEN 'Sábado'\n",
    "            WHEN Day_Of_Week = 7 THEN 'Domindo'\n",
    "        END AS `dia da semana`,\n",
    "        COUNT(*) AS `contagem` \n",
    "    FROM diverted \n",
    "    GROUP BY Day_Of_Week \n",
    "    ORDER BY `contagem` DESC\n",
    "\"\"\")\n",
    "mesDf.show()"
   ]
  },
  {
   "cell_type": "markdown",
   "metadata": {},
   "source": [
    "Comparação de voos cancelados com desviados"
   ]
  },
  {
   "cell_type": "code",
   "execution_count": 29,
   "metadata": {},
   "outputs": [
    {
     "name": "stdout",
     "output_type": "stream",
     "text": [
      "+----------+\n",
      "|Cancelados|\n",
      "+----------+\n",
      "|     87936|\n",
      "+----------+\n",
      "\n"
     ]
    }
   ],
   "source": [
    "cancelDf = spark.sql(\"SELECT COUNT(*) AS `Cancelados` FROM diverted WHERE Cancelled LIKE 1.0\")\n",
    "cancelDf.show()"
   ]
  },
  {
   "cell_type": "code",
   "execution_count": 30,
   "metadata": {},
   "outputs": [
    {
     "name": "stdout",
     "output_type": "stream",
     "text": [
      "+----------+\n",
      "|Cancelados|\n",
      "+----------+\n",
      "|     16552|\n",
      "+----------+\n",
      "\n"
     ]
    }
   ],
   "source": [
    "desDf = spark.sql(\"SELECT COUNT(*) AS `Cancelados` FROM diverted WHERE Diverted LIKE 1.0\")\n",
    "desDf.show()"
   ]
  },
  {
   "cell_type": "markdown",
   "metadata": {},
   "source": [
    "Distribuição de voos por linha"
   ]
  },
  {
   "cell_type": "code",
   "execution_count": 31,
   "metadata": {},
   "outputs": [
    {
     "name": "stdout",
     "output_type": "stream",
     "text": [
      "+--------------------+--------+\n",
      "|        linha de voo|contagem|\n",
      "+--------------------+--------+\n",
      "|Southwest Airline...|   17227|\n",
      "|American Airlines...|   12473|\n",
      "|United Air Lines ...|   12180|\n",
      "| Delta Air Lines Inc|   12055|\n",
      "|Skywest Airlines ...|   10302|\n",
      "|    Republic Airways|    8785|\n",
      "|     JetBlue Airways|    6937|\n",
      "|    Spirit Air Lines|    5026|\n",
      "|        Endeavor Air|    4615|\n",
      "|Frontier Airlines...|    4083|\n",
      "|        PSA Airlines|    3072|\n",
      "|American Eagle Ai...|    2793|\n",
      "|Alaska Airlines Inc.|    2701|\n",
      "|Hawaiian Airlines...|    1125|\n",
      "|       Allegiant Air|    1114|\n",
      "+--------------------+--------+\n",
      "\n"
     ]
    }
   ],
   "source": [
    "linVooDf = spark.sql(\"SELECT Airline AS `linha de voo`, COUNT(*) AS `contagem` FROM diverted GROUP BY Airline ORDER BY `contagem` DESC\")\n",
    "linVooDf.show()"
   ]
  },
  {
   "cell_type": "markdown",
   "metadata": {},
   "source": [
    "Aeroportos de destinos"
   ]
  },
  {
   "cell_type": "code",
   "execution_count": 33,
   "metadata": {},
   "outputs": [
    {
     "name": "stdout",
     "output_type": "stream",
     "text": [
      "+---------+--------+\n",
      "|Aeroporto|contagem|\n",
      "+---------+--------+\n",
      "|      DFW|    5223|\n",
      "|      LGA|    4924|\n",
      "|      DEN|    4785|\n",
      "|      EWR|    4179|\n",
      "|      ORD|    3796|\n",
      "|      ATL|    3527|\n",
      "|      JFK|    3428|\n",
      "|      BOS|    2962|\n",
      "|      LAS|    2671|\n",
      "|      MCO|    2523|\n",
      "|      DCA|    2464|\n",
      "|      CLT|    2230|\n",
      "|      LAX|    2093|\n",
      "|      FLL|    1900|\n",
      "|      SFO|    1780|\n",
      "|      MSP|    1740|\n",
      "|      DTW|    1723|\n",
      "|      PHX|    1547|\n",
      "|      IAH|    1500|\n",
      "|      MDW|    1401|\n",
      "+---------+--------+\n",
      "only showing top 20 rows\n",
      "\n"
     ]
    }
   ],
   "source": [
    "aerDesDf = spark.sql(\"SELECT Dep_Airport AS `Aeroporto`, COUNT(*) AS `contagem` FROM diverted GROUP BY Dep_Airport ORDER BY `contagem` DESC\")\n",
    "aerDesDf.show()"
   ]
  },
  {
   "cell_type": "markdown",
   "metadata": {},
   "source": [
    "Aeroportos de origem"
   ]
  },
  {
   "cell_type": "code",
   "execution_count": 34,
   "metadata": {},
   "outputs": [
    {
     "name": "stdout",
     "output_type": "stream",
     "text": [
      "+---------+--------+\n",
      "|Aeroporto|contagem|\n",
      "+---------+--------+\n",
      "|      DFW|    5485|\n",
      "|      DEN|    5409|\n",
      "|      LGA|    5108|\n",
      "|      EWR|    4386|\n",
      "|      ORD|    4068|\n",
      "|      ATL|    3516|\n",
      "|      JFK|    3513|\n",
      "|      MCO|    2999|\n",
      "|      BOS|    2952|\n",
      "|      LAS|    2636|\n",
      "|      DCA|    2577|\n",
      "|      CLT|    2194|\n",
      "|      FLL|    2105|\n",
      "|      LAX|    1957|\n",
      "|      SFO|    1756|\n",
      "|      IAH|    1644|\n",
      "|      DTW|    1640|\n",
      "|      MSP|    1628|\n",
      "|      MIA|    1568|\n",
      "|      MDW|    1548|\n",
      "+---------+--------+\n",
      "only showing top 20 rows\n",
      "\n"
     ]
    }
   ],
   "source": [
    "aerOriDf = spark.sql(\"SELECT Arr_Airport AS `Aeroporto`, COUNT(*) AS `contagem` FROM diverted GROUP BY Arr_Airport ORDER BY `contagem` DESC\")\n",
    "aerOriDf.show()"
   ]
  },
  {
   "cell_type": "markdown",
   "metadata": {},
   "source": [
    "Principais aeronaves"
   ]
  },
  {
   "cell_type": "code",
   "execution_count": 36,
   "metadata": {},
   "outputs": [
    {
     "name": "stdout",
     "output_type": "stream",
     "text": [
      "+--------+--------+\n",
      "|Aeronave|contagem|\n",
      "+--------+--------+\n",
      "|  N794SK|      81|\n",
      "|  N355JB|      78|\n",
      "|  N731YX|      75|\n",
      "|  N649RW|      73|\n",
      "|  N740YX|      70|\n",
      "|  N249JB|      69|\n",
      "|  N748YX|      68|\n",
      "|  N306JB|      68|\n",
      "|  N904XJ|      68|\n",
      "|  N789SK|      68|\n",
      "|  N787SK|      67|\n",
      "|  N914XJ|      66|\n",
      "|  N915XJ|      66|\n",
      "|  N375JB|      66|\n",
      "|  N743SK|      65|\n",
      "|  N786SK|      64|\n",
      "|  N733YX|      64|\n",
      "|  N267JB|      64|\n",
      "|  N742YX|      64|\n",
      "|  N796SK|      63|\n",
      "+--------+--------+\n",
      "only showing top 20 rows\n",
      "\n"
     ]
    }
   ],
   "source": [
    "aerDf = spark.sql(\"\"\"\n",
    "    SELECT Tail_Number AS `Aeronave`, COUNT(*) AS `contagem` \n",
    "    FROM diverted\n",
    "    WHERE Tail_Number NOT LIKE 0\n",
    "    GROUP BY Tail_Number\n",
    "    ORDER BY `contagem` DESC\"\"\"\n",
    "    )\n",
    "aerDf.show()"
   ]
  }
 ],
 "metadata": {
  "kernelspec": {
   "display_name": "Python 3 (ipykernel)",
   "language": "python",
   "name": "python3"
  },
  "language_info": {
   "codemirror_mode": {
    "name": "ipython",
    "version": 3
   },
   "file_extension": ".py",
   "mimetype": "text/x-python",
   "name": "python",
   "nbconvert_exporter": "python",
   "pygments_lexer": "ipython3",
   "version": "3.9.2"
  }
 },
 "nbformat": 4,
 "nbformat_minor": 2
}
